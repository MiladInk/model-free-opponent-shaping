{
 "cells": [
  {
   "cell_type": "code",
   "execution_count": 3,
   "id": "initial_id",
   "metadata": {
    "collapsed": true,
    "ExecuteTime": {
     "end_time": "2023-11-12T20:05:32.863174Z",
     "start_time": "2023-11-12T20:05:21.133654Z"
    }
   },
   "outputs": [
    {
     "name": "stdout",
     "output_type": "stream",
     "text": [
      "finished writing\n"
     ]
    }
   ],
   "source": [
    "import os\n",
    "from pathlib import Path\n",
    "local_save_dir = Path(\"/Users/miladaghajohari/PycharmProjects/model-free-opponent-shaping/checkpoints/\")\n",
    "# make local dir if it does not exist\n",
    "if not local_save_dir.exists():\n",
    "    os.makedirs(local_save_dir)\n",
    "mila_save_dir = Path(\"mila:/home/mila/a/aghajohm/repos/model-free-opponent-shaping/\")\n",
    "# download from mila cluster to local\n",
    "os.system(f\"scp -r -P 2222 {mila_save_dir/'milad_files.zip'} {local_save_dir}\")\n",
    "print(f'finished writing')"
   ]
  },
  {
   "cell_type": "code",
   "execution_count": null,
   "outputs": [],
   "source": [],
   "metadata": {
    "collapsed": false
   },
   "id": "eb867935cf01de74"
  }
 ],
 "metadata": {
  "kernelspec": {
   "display_name": "Python 3",
   "language": "python",
   "name": "python3"
  },
  "language_info": {
   "codemirror_mode": {
    "name": "ipython",
    "version": 2
   },
   "file_extension": ".py",
   "mimetype": "text/x-python",
   "name": "python",
   "nbconvert_exporter": "python",
   "pygments_lexer": "ipython2",
   "version": "2.7.6"
  }
 },
 "nbformat": 4,
 "nbformat_minor": 5
}
