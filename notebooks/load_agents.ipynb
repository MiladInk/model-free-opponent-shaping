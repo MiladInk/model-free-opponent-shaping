{
 "cells": [
  {
   "cell_type": "code",
   "execution_count": 31,
   "id": "initial_id",
   "metadata": {
    "collapsed": true,
    "ExecuteTime": {
     "end_time": "2023-11-14T04:35:14.318683Z",
     "start_time": "2023-11-14T04:34:29.047757Z"
    }
   },
   "outputs": [
    {
     "name": "stdout",
     "output_type": "stream",
     "text": [
      "finished writing\n"
     ]
    }
   ],
   "source": [
    "import os\n",
    "from pathlib import Path\n",
    "local_save_dir = Path(\"/Users/miladaghajohari/PycharmProjects/model-free-opponent-shaping/checkpoints/\")\n",
    "# make local dir if it does not exist\n",
    "if not local_save_dir.exists():\n",
    "    os.makedirs(local_save_dir)\n",
    "mila_save_dir = Path(\"mila:/home/mila/a/aghajohm/repos/model-free-opponent-shaping/\")\n",
    "# download from mila cluster to local\n",
    "os.system(f\"scp -r -P 2222 {mila_save_dir/'self_plays.zip'} {local_save_dir}\")\n",
    "print(f'finished writing')"
   ]
  },
  {
   "cell_type": "code",
   "execution_count": 8,
   "outputs": [],
   "source": [
    "import pickle\n",
    "import torch\n",
    "with open(\"/Users/miladaghajohari/PycharmProjects/model-free-opponent-shaping/checkpoints/milad_files/milad_3x3_42/1000.pth\", \"rb\") as f:\n",
    "    model = torch.load(f, map_location=torch.device('cpu'))"
   ],
   "metadata": {
    "collapsed": false,
    "ExecuteTime": {
     "end_time": "2023-11-12T20:17:41.068591Z",
     "start_time": "2023-11-12T20:17:41.047757Z"
    }
   },
   "id": "eb867935cf01de74"
  },
  {
   "cell_type": "code",
   "execution_count": 11,
   "outputs": [
    {
     "data": {
      "text/plain": "odict_keys(['conv_a_0.weight', 'conv_a_0.bias', 'conv_a_1.weight', 'conv_a_1.bias', 'linear_a_0.weight', 'linear_a_0.bias', 'GRU_a.weight_ih_l0', 'GRU_a.weight_hh_l0', 'GRU_a.bias_ih_l0', 'GRU_a.bias_hh_l0', 'linear_a.weight', 'linear_a.bias', 'conv_v_0.weight', 'conv_v_0.bias', 'conv_v_1.weight', 'conv_v_1.bias', 'linear_v_0.weight', 'linear_v_0.bias', 'GRU_v.weight_ih_l0', 'GRU_v.weight_hh_l0', 'GRU_v.bias_ih_l0', 'GRU_v.bias_hh_l0', 'linear_v.weight', 'linear_v.bias', 'conv_t_0.weight', 'conv_t_0.bias', 'conv_t_1.weight', 'conv_t_1.bias', 'linear_t_0.weight', 'linear_t_0.bias', 'GRU_t.weight_ih_l0', 'GRU_t.weight_hh_l0', 'GRU_t.bias_ih_l0', 'GRU_t.bias_hh_l0', 'linear_t.weight', 'linear_t.bias'])"
     },
     "execution_count": 11,
     "metadata": {},
     "output_type": "execute_result"
    }
   ],
   "source": [
    "model['actor_critic'].keys()"
   ],
   "metadata": {
    "collapsed": false,
    "ExecuteTime": {
     "end_time": "2023-11-12T20:17:58.054652Z",
     "start_time": "2023-11-12T20:17:58.044914Z"
    }
   },
   "id": "b7ba858a350d34e0"
  },
  {
   "cell_type": "code",
   "execution_count": 21,
   "outputs": [
    {
     "data": {
      "text/plain": "<All keys matched successfully>"
     },
     "execution_count": 21,
     "metadata": {},
     "output_type": "execute_result"
    }
   ],
   "source": [
    "from src.coin_game.coin_game_mfos_agent import ActorCriticMFOS\n",
    "grid_size = 7\n",
    "state_dim = [7, grid_size, grid_size]\n",
    "action_dim = 4\n",
    "n_latent_var = 16\n",
    "batch_size = 512\n",
    "mfos = ActorCriticMFOS(state_dim, action_dim, n_latent_var, batch_size)\n",
    "mfos.load_state_dict(model['actor_critic'])"
   ],
   "metadata": {
    "collapsed": false,
    "ExecuteTime": {
     "end_time": "2023-11-12T21:46:06.538303Z",
     "start_time": "2023-11-12T21:46:06.497612Z"
    }
   },
   "id": "d81e23d8359390f8"
  },
  {
   "cell_type": "code",
   "execution_count": 30,
   "outputs": [
    {
     "data": {
      "text/plain": "tensor([1, 1, 1, 1, 1, 1, 1, 1, 1, 1, 1, 1, 1, 1, 1, 1, 1, 1, 1, 1, 1, 1, 1, 1,\n        1, 1, 1, 1, 1, 1, 1, 1, 1, 1, 1, 1, 1, 1, 1, 1, 1, 1, 1, 1, 1, 1, 1, 1,\n        1, 1, 1, 1, 1, 1, 3, 1, 1, 1, 1, 1, 1, 1, 1, 1, 1, 1, 1, 1, 1, 1, 1, 1,\n        1, 1, 1, 1, 1, 1, 3, 1, 1, 1, 1, 1, 1, 1, 1, 1, 1, 1, 3, 1, 1, 1, 1, 1,\n        1, 3, 1, 1, 1, 1, 1, 1, 1, 1, 1, 1, 1, 1, 1, 1, 1, 1, 1, 1, 1, 1, 1, 1,\n        1, 1, 1, 1, 1, 1, 1, 1, 1, 1, 1, 1, 1, 1, 1, 1, 1, 1, 3, 1, 1, 1, 1, 1,\n        1, 1, 1, 1, 1, 1, 1, 3, 3, 1, 1, 1, 1, 1, 1, 1, 1, 1, 1, 1, 1, 1, 3, 1,\n        1, 1, 1, 1, 1, 1, 1, 1, 1, 1, 1, 1, 1, 1, 1, 1, 1, 1, 1, 1, 1, 1, 1, 1,\n        1, 1, 1, 1, 1, 1, 1, 1, 1, 1, 1, 1, 1, 1, 1, 1, 1, 3, 1, 1, 1, 1, 1, 1,\n        1, 1, 1, 1, 1, 1, 1, 1, 1, 1, 1, 1, 1, 1, 1, 1, 1, 1, 3, 1, 1, 1, 1, 1,\n        1, 1, 1, 1, 1, 1, 1, 1, 1, 1, 1, 1, 1, 1, 1, 1, 1, 1, 1, 1, 1, 1, 3, 1,\n        1, 1, 1, 1, 1, 1, 1, 1, 1, 1, 1, 3, 1, 1, 1, 1, 1, 1, 1, 1, 1, 3, 1, 1,\n        1, 1, 1, 1, 1, 1, 1, 1, 1, 1, 1, 1, 1, 1, 1, 1, 1, 1, 1, 1, 1, 1, 1, 1,\n        1, 1, 1, 1, 1, 1, 1, 1, 1, 1, 1, 1, 1, 1, 1, 1, 1, 1, 1, 1, 1, 1, 1, 1,\n        1, 1, 1, 1, 3, 1, 1, 1, 1, 1, 1, 1, 1, 1, 1, 1, 1, 1, 3, 1, 1, 1, 1, 1,\n        1, 1, 1, 1, 1, 1, 1, 1, 1, 1, 1, 1, 1, 1, 1, 1, 1, 1, 1, 1, 1, 1, 1, 1,\n        1, 1, 1, 1, 1, 1, 1, 1, 1, 1, 1, 1, 1, 1, 1, 3, 1, 1, 1, 1, 1, 1, 1, 1,\n        1, 1, 1, 1, 1, 1, 1, 1, 1, 1, 1, 3, 1, 1, 1, 1, 1, 1, 1, 1, 1, 1, 1, 1,\n        1, 1, 1, 1, 1, 1, 1, 1, 1, 1, 1, 1, 1, 1, 1, 1, 1, 1, 1, 1, 1, 1, 1, 1,\n        1, 1, 1, 1, 1, 1, 1, 1, 1, 1, 1, 1, 1, 1, 1, 1, 1, 1, 1, 1, 1, 1, 1, 1,\n        1, 1, 1, 1, 1, 1, 1, 1, 1, 1, 1, 1, 1, 1, 1, 1, 1, 1, 1, 1, 1, 1, 1, 1,\n        1, 1, 1, 1, 1, 1, 1, 1])"
     },
     "execution_count": 30,
     "metadata": {},
     "output_type": "execute_result"
    }
   ],
   "source": [
    "state = torch.zeros(512, 7, 7, 7)\n",
    "mfos.act(state)"
   ],
   "metadata": {
    "collapsed": false,
    "ExecuteTime": {
     "end_time": "2023-11-12T21:47:15.682766Z",
     "start_time": "2023-11-12T21:47:15.659728Z"
    }
   },
   "id": "b7f230f3a8cdb735"
  },
  {
   "cell_type": "code",
   "execution_count": 23,
   "outputs": [
    {
     "data": {
      "text/plain": "ActorCriticMFOS(\n  (conv_a_0): Conv2d(7, 16, kernel_size=(3, 3), stride=(1, 1), padding=same, padding_mode=circular)\n  (conv_a_1): Conv2d(16, 16, kernel_size=(3, 3), stride=(1, 1), padding=same, padding_mode=circular)\n  (linear_a_0): Linear(in_features=784, out_features=16, bias=True)\n  (GRU_a): GRU(16, 16)\n  (linear_a): Linear(in_features=16, out_features=4, bias=True)\n  (conv_v_0): Conv2d(7, 16, kernel_size=(3, 3), stride=(1, 1), padding=same, padding_mode=circular)\n  (conv_v_1): Conv2d(16, 16, kernel_size=(3, 3), stride=(1, 1), padding=same, padding_mode=circular)\n  (linear_v_0): Linear(in_features=784, out_features=16, bias=True)\n  (GRU_v): GRU(16, 16)\n  (linear_v): Linear(in_features=16, out_features=1, bias=True)\n  (conv_t_0): Conv2d(7, 16, kernel_size=(3, 3), stride=(1, 1), padding=same, padding_mode=circular)\n  (conv_t_1): Conv2d(16, 16, kernel_size=(3, 3), stride=(1, 1), padding=same, padding_mode=circular)\n  (linear_t_0): Linear(in_features=784, out_features=16, bias=True)\n  (GRU_t): GRU(16, 16)\n  (linear_t): Linear(in_features=16, out_features=16, bias=True)\n)"
     },
     "execution_count": 23,
     "metadata": {},
     "output_type": "execute_result"
    }
   ],
   "source": [
    "mfos"
   ],
   "metadata": {
    "collapsed": false,
    "ExecuteTime": {
     "end_time": "2023-11-12T21:46:07.715826Z",
     "start_time": "2023-11-12T21:46:07.707981Z"
    }
   },
   "id": "98f2797594f98362"
  },
  {
   "cell_type": "code",
   "execution_count": null,
   "outputs": [],
   "source": [],
   "metadata": {
    "collapsed": false
   },
   "id": "94004e99d1471ba8"
  }
 ],
 "metadata": {
  "kernelspec": {
   "display_name": "Python 3",
   "language": "python",
   "name": "python3"
  },
  "language_info": {
   "codemirror_mode": {
    "name": "ipython",
    "version": 2
   },
   "file_extension": ".py",
   "mimetype": "text/x-python",
   "name": "python",
   "nbconvert_exporter": "python",
   "pygments_lexer": "ipython2",
   "version": "2.7.6"
  }
 },
 "nbformat": 4,
 "nbformat_minor": 5
}
